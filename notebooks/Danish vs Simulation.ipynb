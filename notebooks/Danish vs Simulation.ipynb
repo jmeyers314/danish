{
 "cells": [
  {
   "cell_type": "code",
   "execution_count": 1,
   "id": "d46b0151",
   "metadata": {
    "execution": {
     "iopub.execute_input": "2023-07-31T18:16:44.321795Z",
     "iopub.status.busy": "2023-07-31T18:16:44.321472Z",
     "iopub.status.idle": "2023-07-31T18:16:44.356394Z",
     "shell.execute_reply": "2023-07-31T18:16:44.355909Z",
     "shell.execute_reply.started": "2023-07-31T18:16:44.321758Z"
    },
    "tags": []
   },
   "outputs": [],
   "source": [
    "%load_ext autoreload\n",
    "%autoreload 2\n",
    "%config InlineBackend.print_figure_kwargs={'facecolor':\"w\"}"
   ]
  },
  {
   "cell_type": "code",
   "execution_count": 2,
   "id": "3207f3eb",
   "metadata": {
    "execution": {
     "iopub.execute_input": "2023-07-31T18:16:44.358327Z",
     "iopub.status.busy": "2023-07-31T18:16:44.358075Z",
     "iopub.status.idle": "2023-07-31T18:16:45.648854Z",
     "shell.execute_reply": "2023-07-31T18:16:45.648482Z",
     "shell.execute_reply.started": "2023-07-31T18:16:44.358301Z"
    },
    "tags": []
   },
   "outputs": [],
   "source": [
    "import time\n",
    "from functools import lru_cache\n",
    "\n",
    "import numpy as np\n",
    "import matplotlib.pyplot as plt\n",
    "import batoid\n",
    "import galsim\n",
    "import ipywidgets as widgets\n",
    "\n",
    "import danish"
   ]
  },
  {
   "cell_type": "code",
   "execution_count": 3,
   "id": "2a1bb31a",
   "metadata": {
    "execution": {
     "iopub.execute_input": "2023-07-31T18:16:45.649549Z",
     "iopub.status.busy": "2023-07-31T18:16:45.649419Z",
     "iopub.status.idle": "2023-07-31T18:16:45.731392Z",
     "shell.execute_reply": "2023-07-31T18:16:45.730907Z",
     "shell.execute_reply.started": "2023-07-31T18:16:45.649537Z"
    },
    "tags": []
   },
   "outputs": [],
   "source": [
    "import os\n",
    "import yaml\n",
    "\n",
    "obsc = yaml.safe_load(open(os.path.join(danish.datadir, \"RubinObsc.yaml\")))\n",
    "factory = danish.DonutFactory(obsc_radii=obsc['radii'], obsc_centers=obsc['centers'], obsc_th_mins=obsc['th_mins'])"
   ]
  },
  {
   "cell_type": "code",
   "execution_count": 4,
   "id": "8e04d6df",
   "metadata": {
    "execution": {
     "iopub.execute_input": "2023-07-31T18:16:45.732174Z",
     "iopub.status.busy": "2023-07-31T18:16:45.732034Z",
     "iopub.status.idle": "2023-07-31T18:16:45.756604Z",
     "shell.execute_reply": "2023-07-31T18:16:45.755988Z",
     "shell.execute_reply.started": "2023-07-31T18:16:45.732161Z"
    },
    "tags": []
   },
   "outputs": [],
   "source": [
    "band_angle = dict(\n",
    "    thr = widgets.FloatSlider(value=1.67, min=0.0, max=2.0, step=0.01, description='thr (deg)'),\n",
    "    ph = widgets.FloatSlider(value=0.0, min=0.0, max=360.0, step=5.0, description='phi (deg)'),\n",
    "    defocus = widgets.Dropdown(options=[-0.0015, 0.0015]),\n",
    "    seed = widgets.IntText(value=57721, description='seed'),\n",
    "    nphoton = widgets.IntText(value=2_000_000, step=500_000, description='nphot')\n",
    ")"
   ]
  },
  {
   "cell_type": "code",
   "execution_count": 5,
   "id": "81117a90",
   "metadata": {
    "execution": {
     "iopub.execute_input": "2023-07-31T18:16:45.757697Z",
     "iopub.status.busy": "2023-07-31T18:16:45.757567Z",
     "iopub.status.idle": "2023-07-31T18:16:45.780066Z",
     "shell.execute_reply": "2023-07-31T18:16:45.779641Z",
     "shell.execute_reply.started": "2023-07-31T18:16:45.757684Z"
    },
    "tags": []
   },
   "outputs": [],
   "source": [
    "@lru_cache\n",
    "def sim(\n",
    "    thx, thy, ph, defocus, seed, nphoton,\n",
    "):\n",
    "    t0 = time.time()\n",
    "    print()\n",
    "    print()\n",
    "    print(\"starting simulation\")\n",
    "\n",
    "    telescope = batoid.Optic.fromYaml(\"LSST_i.yaml\")\n",
    "    telescope = telescope.withGloballyShiftedOptic(\"Detector\", (0, 0, defocus))\n",
    "    \n",
    "    aberrations = batoid.analysis.zernikeTA(\n",
    "        telescope, thx, thy, 750e-9,\n",
    "        nrad=20, naz=120, jmax=66, eps=0.61\n",
    "    )\n",
    "    \n",
    "    rng = galsim.BaseDeviate(seed)\n",
    "    silicon = batoid.TableMedium.fromTxt(\"silicon_dispersion.txt\")\n",
    "    sensor = galsim.Sensor()\n",
    "\n",
    "    rng = np.random.default_rng(seed)\n",
    "    gsrng = galsim.BaseDeviate(seed)\n",
    "    \n",
    "    # Simulation\n",
    "    # Populate pupil\n",
    "    r_outer = 8.36/2\n",
    "    # purposely underestimate inner radius a bit.\n",
    "    # Rays that miss will just be vignetted.\n",
    "    r_inner = 8.36/2*0.58\n",
    "    r = np.sqrt(rng.uniform(r_inner**2, r_outer**2, nphoton))\n",
    "    th = rng.uniform(0, 2*np.pi, nphoton)\n",
    "    u = r*np.cos(th)\n",
    "    v = r*np.sin(th)\n",
    "    wavelengths = np.full(u.shape, 750e-9)\n",
    "    \n",
    "    kolm = galsim.Kolmogorov(fwhm=0.1)\n",
    "    pa = galsim.PhotonArray(nphoton)\n",
    "    kolm._shoot(pa, gsrng)\n",
    "    dku = np.deg2rad(pa.x / 3600)\n",
    "    dkv = np.deg2rad(pa.y / 3600)\n",
    "\n",
    "    dku += thx\n",
    "    dkv += thy\n",
    "    vx, vy, vz = batoid.utils.fieldToDirCos(dku, dkv, projection='gnomonic')\n",
    "    x = u\n",
    "    y = v\n",
    "    zPupil = telescope[\"M1\"].surface.sag(0, 0.5*telescope.pupilSize)\n",
    "    z = np.zeros_like(x)+zPupil\n",
    "    n = telescope.inMedium.getN(wavelengths)\n",
    "    vx /= n\n",
    "    vy /= n\n",
    "    vz /= n\n",
    "    rays = batoid.RayVector(\n",
    "        x, y, z,\n",
    "        vx, vy, vz,\n",
    "        t=0.0,\n",
    "        wavelength=wavelengths,\n",
    "        flux=1.0\n",
    "    )\n",
    "\n",
    "    telescope.trace(rays)\n",
    "    \n",
    "    pa = galsim.PhotonArray(nphoton)\n",
    "    pa.x = rays.x/10e-6\n",
    "    pa.y = rays.y/10e-6\n",
    "    pa.flux = ~rays.vignetted\n",
    "\n",
    "    image = galsim.Image(181, 181)\n",
    "    image.setCenter(\n",
    "        int(np.mean(pa.x[~rays.vignetted])),\n",
    "        int(np.mean(pa.y[~rays.vignetted]))\n",
    "    )\n",
    "    sensor.accumulate(pa, image)\n",
    "\n",
    "    # Add background.\n",
    "    image.array[:] += rng.normal(scale=np.sqrt(1000), size=(181, 181))\n",
    "    \n",
    "    t1 = time.time()    \n",
    "    print(f\"sim time: {t1-t0:.3f} sec\")    \n",
    "    return image, aberrations\n",
    "\n",
    "sim.cache_clear()"
   ]
  },
  {
   "cell_type": "code",
   "execution_count": 6,
   "id": "93b40531",
   "metadata": {
    "execution": {
     "iopub.execute_input": "2023-07-31T18:16:45.780840Z",
     "iopub.status.busy": "2023-07-31T18:16:45.780707Z",
     "iopub.status.idle": "2023-07-31T18:16:45.799237Z",
     "shell.execute_reply": "2023-07-31T18:16:45.798830Z",
     "shell.execute_reply.started": "2023-07-31T18:16:45.780826Z"
    },
    "tags": []
   },
   "outputs": [],
   "source": [
    "def demo(\n",
    "    thr, ph, defocus, seed, nphoton,\n",
    "):\n",
    "    thx = np.deg2rad(thr)*np.cos(np.deg2rad(ph))\n",
    "    thy = np.deg2rad(thr)*np.sin(np.deg2rad(ph))\n",
    "\n",
    "    image, aberrations = sim(\n",
    "        thx, thy, ph, defocus, seed, nphoton,\n",
    "    )\n",
    "\n",
    "    t0 = time.time()\n",
    "    im2 = factory.image(\n",
    "        aberrations=aberrations*750e-9, \n",
    "        thx=thx, thy=thy\n",
    "    )\n",
    "    t1 = time.time()\n",
    "    print(f\"geo time: {t1-t0:.3f} sec\")\n",
    "\n",
    "    fig, axes = plt.subplots(ncols=3, figsize=(10, 5))\n",
    "    axes[0].imshow(image.array)\n",
    "    axes[1].imshow(im2[::-1,::-1])\n",
    "    axes[2].imshow(im2[::-1,::-1]/np.sum(im2)*np.sum(image.array) - image.array)\n",
    "    plt.show()"
   ]
  },
  {
   "cell_type": "code",
   "execution_count": 7,
   "id": "a947f4e0",
   "metadata": {
    "execution": {
     "iopub.execute_input": "2023-07-31T18:16:45.801659Z",
     "iopub.status.busy": "2023-07-31T18:16:45.801405Z",
     "iopub.status.idle": "2023-07-31T18:16:51.233522Z",
     "shell.execute_reply": "2023-07-31T18:16:51.233166Z",
     "shell.execute_reply.started": "2023-07-31T18:16:45.801628Z"
    },
    "tags": []
   },
   "outputs": [
    {
     "data": {
      "application/vnd.jupyter.widget-view+json": {
       "model_id": "6f05df3851b64324a8ce7121fa8a1638",
       "version_major": 2,
       "version_minor": 0
      },
      "text/plain": [
       "VBox(children=(HBox(children=(VBox(children=(FloatSlider(value=1.67, description='thr (deg)', max=2.0, step=0.…"
      ]
     },
     "metadata": {},
     "output_type": "display_data"
    }
   ],
   "source": [
    "all_widgets = {}\n",
    "for d in [band_angle]:\n",
    "    for k in d:\n",
    "        all_widgets[k] = d[k]\n",
    "\n",
    "output = widgets.interactive_output(demo, all_widgets)\n",
    "display(widgets.VBox([\n",
    "    widgets.HBox([\n",
    "        widgets.VBox([v for v in band_angle.values()]),\n",
    "    ]),\n",
    "    output\n",
    "]))"
   ]
  },
  {
   "cell_type": "code",
   "execution_count": null,
   "id": "a2791c26",
   "metadata": {},
   "outputs": [],
   "source": []
  }
 ],
 "metadata": {
  "kernelspec": {
   "display_name": "Python 3 (ipykernel)",
   "language": "python",
   "name": "python3"
  },
  "language_info": {
   "codemirror_mode": {
    "name": "ipython",
    "version": 3
   },
   "file_extension": ".py",
   "mimetype": "text/x-python",
   "name": "python",
   "nbconvert_exporter": "python",
   "pygments_lexer": "ipython3",
   "version": "3.10.9"
  }
 },
 "nbformat": 4,
 "nbformat_minor": 5
}
